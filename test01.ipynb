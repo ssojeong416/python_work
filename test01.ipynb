{
 "cells": [
  {
   "cell_type": "code",
   "execution_count": 2,
   "metadata": {},
   "outputs": [
    {
     "name": "stdout",
     "output_type": "stream",
     "text": [
      "30\n"
     ]
    }
   ],
   "source": [
    "a=10\n",
    "b=20\n",
    "print(a+b)\n",
    "\n"
   ]
  },
  {
   "cell_type": "code",
   "execution_count": 3,
   "metadata": {},
   "outputs": [
    {
     "name": "stdout",
     "output_type": "stream",
     "text": [
      "1\n",
      "2\n",
      "3\n",
      "4\n",
      "5\n",
      "6\n",
      "7\n",
      "8\n",
      "9\n"
     ]
    }
   ],
   "source": [
    "for i in range(1,10):\n",
    "    print(i)"
   ]
  },
  {
   "cell_type": "code",
   "execution_count": 4,
   "metadata": {},
   "outputs": [],
   "source": [
    "a=10"
   ]
  },
  {
   "cell_type": "code",
   "execution_count": 5,
   "metadata": {},
   "outputs": [],
   "source": [
    "b=20"
   ]
  },
  {
   "cell_type": "code",
   "execution_count": 7,
   "metadata": {},
   "outputs": [
    {
     "data": {
      "text/plain": [
       "30"
      ]
     },
     "execution_count": 7,
     "metadata": {},
     "output_type": "execute_result"
    }
   ],
   "source": [
    "a+b"
   ]
  },
  {
   "cell_type": "code",
   "execution_count": 8,
   "metadata": {},
   "outputs": [
    {
     "name": "stdout",
     "output_type": "stream",
     "text": [
      "10\n"
     ]
    }
   ],
   "source": [
    "a+b; print(a)"
   ]
  },
  {
   "attachments": {
    "login.png": {
     "image/png": "[encoded data removed]"
    }
   },
   "cell_type": "markdown",
   "metadata": {},
   "source": [
    "![](attachment:login.png)"
   ]
  },
  {
   "cell_type": "code",
   "execution_count": 9,
   "metadata": {},
   "outputs": [
    {
     "name": "stdout",
     "output_type": "stream",
     "text": [
      "123 -173 0\n"
     ]
    }
   ],
   "source": [
    "a=123\n",
    "b=-173\n",
    "c=0\n",
    "print(a,b,c)"
   ]
  },
  {
   "cell_type": "code",
   "execution_count": 11,
   "metadata": {},
   "outputs": [
    {
     "name": "stdout",
     "output_type": "stream",
     "text": [
      "1.2 -3.15 12400000000.0 4.12e-10\n"
     ]
    }
   ],
   "source": [
    "d1=1.2\n",
    "d2=-3.15\n",
    "d3=1.24e10\n",
    "d4=4.12e-10\n",
    "print(d1,d2,d3,d4)"
   ]
  },
  {
   "cell_type": "code",
   "execution_count": 12,
   "metadata": {},
   "outputs": [
    {
     "name": "stdout",
     "output_type": "stream",
     "text": [
      "8\n"
     ]
    }
   ],
   "source": [
    "o1=0o10\n",
    "print(o1)"
   ]
  },
  {
   "cell_type": "code",
   "execution_count": 13,
   "metadata": {},
   "outputs": [
    {
     "name": "stdout",
     "output_type": "stream",
     "text": [
      "255 2748\n"
     ]
    }
   ],
   "source": [
    "h1=0xff\n",
    "h2=0xABC\n",
    "print(h1,h2)"
   ]
  },
  {
   "cell_type": "code",
   "execution_count": 16,
   "metadata": {},
   "outputs": [
    {
     "name": "stdout",
     "output_type": "stream",
     "text": [
      "3.3333333333333335\n",
      "3\n",
      "1\n"
     ]
    }
   ],
   "source": [
    "print(10/3)\n",
    "print(10//3)\n",
    "print(10%3)"
   ]
  },
  {
   "cell_type": "code",
   "execution_count": 21,
   "metadata": {},
   "outputs": [
    {
     "name": "stdout",
     "output_type": "stream",
     "text": [
      "32\n"
     ]
    }
   ],
   "source": [
    "print(2**5)"
   ]
  },
  {
   "cell_type": "code",
   "execution_count": null,
   "metadata": {},
   "outputs": [],
   "source": []
  },
  {
   "cell_type": "code",
   "execution_count": 24,
   "metadata": {},
   "outputs": [
    {
     "name": "stdout",
     "output_type": "stream",
     "text": [
      "11\n",
      "10\n"
     ]
    }
   ],
   "source": [
    "a=10\n",
    "a+=1\n",
    "print(a) #a=a+1\n",
    "a-=1\n",
    "print(a) #a=a-1 "
   ]
  },
  {
   "cell_type": "code",
   "execution_count": 26,
   "metadata": {},
   "outputs": [
    {
     "name": "stdout",
     "output_type": "stream",
     "text": [
      "True\n",
      "False\n",
      "True\n",
      "False\n",
      "False\n",
      "True\n"
     ]
    }
   ],
   "source": [
    "a=10\n",
    "b=5\n",
    "\n",
    "print(a>b)\n",
    "print(a<b)\n",
    "print(a>=b)\n",
    "print(a<=b)\n",
    "print(a==b)\n",
    "print(a!=b)"
   ]
  },
  {
   "cell_type": "code",
   "execution_count": 28,
   "metadata": {},
   "outputs": [
    {
     "name": "stdout",
     "output_type": "stream",
     "text": [
      "0\n",
      "13\n",
      "13\n",
      "-9\n",
      "32\n",
      "2\n"
     ]
    }
   ],
   "source": [
    "a=8   # 1000 \n",
    "b=5   # 0101\n",
    "\n",
    "print(a & b)   # 0\n",
    "print(a | b)   # 1101\n",
    "print(a ^ b)   # 1101\n",
    "print(~a)\n",
    "c=a<<2    # 8*(2**2) \n",
    "print(c)\n",
    "print(a>>2)  # 8/4\n"
   ]
  },
  {
   "cell_type": "code",
   "execution_count": 31,
   "metadata": {},
   "outputs": [
    {
     "name": "stdout",
     "output_type": "stream",
     "text": [
      "False\n",
      "True\n",
      "True\n",
      "False\n"
     ]
    }
   ],
   "source": [
    "print((a>5) and (b<5))\n",
    "print((a>5) or (b<5))\n",
    "print(not((a>5)and (b<5)))\n",
    "print(not((a>5)or (b<5)))\n"
   ]
  },
  {
   "cell_type": "code",
   "execution_count": 32,
   "metadata": {},
   "outputs": [
    {
     "name": "stdout",
     "output_type": "stream",
     "text": [
      "3.14 3\n",
      "3.0\n"
     ]
    }
   ],
   "source": [
    "a=3.14\n",
    "intA=int(a)\n",
    "print (a, intA)\n",
    "\n",
    "floatA=float(intA)\n",
    "print(floatA)\n",
    "\n",
    " "
   ]
  },
  {
   "cell_type": "code",
   "execution_count": 37,
   "metadata": {},
   "outputs": [
    {
     "name": "stdout",
     "output_type": "stream",
     "text": [
      "True\n",
      "False\n",
      "True\n",
      "False\n",
      "False\n"
     ]
    }
   ],
   "source": [
    "print(True==1)\n",
    "print(True==10)\n",
    "print(False==0)\n",
    "print(False==10)\n",
    "print(False=='  ')"
   ]
  },
  {
   "cell_type": "code",
   "execution_count": 38,
   "metadata": {},
   "outputs": [
    {
     "name": "stdout",
     "output_type": "stream",
     "text": [
      "True\n"
     ]
    }
   ],
   "source": [
    "s1=\"abc\"\n",
    "print(\"abc\"==s1)"
   ]
  },
  {
   "cell_type": "code",
   "execution_count": 43,
   "metadata": {},
   "outputs": [
    {
     "name": "stdout",
     "output_type": "stream",
     "text": [
      "3.14 10\n",
      "<class 'str'> <class 'str'> <class 'int'> <class 'float'>\n"
     ]
    }
   ],
   "source": [
    "s1=\"3.14\"\n",
    "s2=\"10\"\n",
    "f1=float(s1)\n",
    "i=int(s2)\n",
    "print(f1,i)\n",
    "\n",
    "print(type(s1), type(s2), type(i), type(f1))"
   ]
  },
  {
   "cell_type": "code",
   "execution_count": 49,
   "metadata": {},
   "outputs": [
    {
     "name": "stdout",
     "output_type": "stream",
     "text": [
      "abcefg\n",
      "abc10\n"
     ]
    }
   ],
   "source": [
    "i1=10\n",
    "s1=str(i1)\n",
    "print(\"abc\"+\"efg\") # 문자와 문자 연산 > 성공 \n",
    "print(\"abc\"+s1)  # 숫자와 문자 연산 > 오류 발생 \n",
    "\n",
    "\n",
    "\n"
   ]
  },
  {
   "cell_type": "code",
   "execution_count": 53,
   "metadata": {},
   "outputs": [
    {
     "name": "stdout",
     "output_type": "stream",
     "text": [
      "abcabcabcabcabc\n",
      "**********\n"
     ]
    }
   ],
   "source": [
    "a=\"abc\"\n",
    "print(a*5)\n",
    "print(\"*\"*10)\n"
   ]
  },
  {
   "cell_type": "code",
   "execution_count": 54,
   "metadata": {},
   "outputs": [
    {
     "name": "stdout",
     "output_type": "stream",
     "text": [
      "True\n",
      "False\n"
     ]
    }
   ],
   "source": [
    "a=3\n",
    "b=[1,2,3,4]\n",
    "print(a in b)\n",
    "print(a not in b)"
   ]
  },
  {
   "cell_type": "code",
   "execution_count": 59,
   "metadata": {},
   "outputs": [
    {
     "name": "stdout",
     "output_type": "stream",
     "text": [
      "abc\n",
      "가나다\n",
      "123\n",
      "python \n",
      "Java\n",
      "Spring\n"
     ]
    }
   ],
   "source": [
    "a= \"\"\"abc\n",
    "가나다\n",
    "123\"\"\"\n",
    "\n",
    "b= '''python \n",
    "Java\n",
    "Spring'''\n",
    "\n",
    "\n",
    "print(a)\n",
    "print(b)"
   ]
  },
  {
   "cell_type": "code",
   "execution_count": 63,
   "metadata": {},
   "outputs": [
    {
     "name": "stdout",
     "output_type": "stream",
     "text": [
      "Python's favorite food is perl\n",
      "\"Python is very easy.\" he says.\n",
      "Python's favorite food is perl\n",
      "\"Python is very easy.\" he says.\n"
     ]
    }
   ],
   "source": [
    "food1 = \"Python's favorite food is perl\"\n",
    "food2 = '\"Python is very easy.\" he says.'\n",
    "food3 = 'Python\\'s favorite food is perl'\n",
    "food4 = \"\\\"Python is very easy.\\\" he says.\"\n",
    "print(food1)\n",
    "print(food2)\n",
    "print(food3)\n",
    "print(food4)\n"
   ]
  },
  {
   "cell_type": "code",
   "execution_count": 65,
   "metadata": {},
   "outputs": [
    {
     "name": "stdout",
     "output_type": "stream",
     "text": [
      "30\n",
      "31\n"
     ]
    }
   ],
   "source": [
    "print(len(food1))\n",
    "print(len(food2))"
   ]
  },
  {
   "cell_type": "code",
   "execution_count": 67,
   "metadata": {},
   "outputs": [
    {
     "name": "stdout",
     "output_type": "stream",
     "text": [
      "h\n",
      "s\n"
     ]
    }
   ],
   "source": [
    "print(food1[3])\n",
    "print(food2[-2])"
   ]
  },
  {
   "cell_type": "code",
   "execution_count": 81,
   "metadata": {},
   "outputs": [
    {
     "name": "stdout",
     "output_type": "stream",
     "text": [
      "Pytho\n",
      "Pto\n",
      "lrep si doof etirovaf s'nohtyP\n",
      "Python's favorite food is perl\n",
      "'s favorite food is perl\n",
      "Python's f\n",
      "Python's favorite food is per\n",
      "Python's favorite food is perl\n"
     ]
    }
   ],
   "source": [
    "print(food1[0:5:1])\n",
    "print(food1[0:5:2])\n",
    "\n",
    "print(food1[::-1])\n",
    "print(food1[::])  # start=0, end=마지막, step=1 >전체 다 출력 \n",
    "print(food1[6:])\n",
    "print(food1[:10])\n",
    "print(food1[:-1])\n",
    "print(food1[-50:50]) #글자수보다 범위가 넓을 경우 > 있는만큼만 가져옴  (결국은 전체)"
   ]
  },
  {
   "cell_type": "code",
   "execution_count": 84,
   "metadata": {},
   "outputs": [
    {
     "name": "stdout",
     "output_type": "stream",
     "text": [
      "TEAMLA AND ME Python\n",
      "TEAMLAB MOOC, AWESOME Python\n",
      "TEAMLAB MOOC, AWESOME Python\n",
      "TALBMO,AEOEPto AND nohtyP EMOSEWA ,COOM BALMAET\n"
     ]
    }
   ],
   "source": [
    "a=\"TEAMLAB MOOC, AWESOME Python\"\n",
    "print(a[0:6], \"AND\",a[-9:])   #a 변수의 0부터 5까지, -9부터 끝까지\n",
    "\n",
    "print (a[:])                  #a 변수의 처음부터 끝까지\n",
    "\n",
    "print (a[-50:50])             # 범위ㅏ를 넘어갈 경우 자동으로 최대 범위를 지정 \n",
    "\n",
    "print(a[::2], \"AND\", a[::-1])"
   ]
  },
  {
   "cell_type": "code",
   "execution_count": 93,
   "metadata": {},
   "outputs": [
    {
     "name": "stdout",
     "output_type": "stream",
     "text": [
      "내이름은홍길동이고,  나이는20이며, 몸무게는70.8입니다.\n"
     ]
    }
   ],
   "source": [
    "name = \"홍길동\"\n",
    "age=20\n",
    "weight=70.8\n",
    "str1=\"내이름은\" + name + \"이고,  나이는\" + str(age) + \"이며, 몸무게는\" +str(weight) +\"입니다.\"\n",
    "print(str1)"
   ]
  },
  {
   "cell_type": "code",
   "execution_count": 95,
   "metadata": {},
   "outputs": [
    {
     "name": "stdout",
     "output_type": "stream",
     "text": [
      "내 이름은        홍길동이고, 나이는  20이며, 몸무게는      70.80입니다.\n"
     ]
    }
   ],
   "source": [
    "str1=\"내 이름은 %10s이고, 나이는 %3d이며, 몸무게는 %10.2f입니다.\" %(name,age,weight)\n",
    "print(str1)"
   ]
  },
  {
   "cell_type": "code",
   "execution_count": 99,
   "metadata": {},
   "outputs": [
    {
     "name": "stdout",
     "output_type": "stream",
     "text": [
      "내 이름은 홍길동이고, 나이는 20이며, 몸무게는 70.8입니다.\n"
     ]
    }
   ],
   "source": [
    "str3=\"내 이름은 {n}이고, 나이는 {a}이며, 몸무게는 {w}입니다.\".format(n=name,a=age,w=weight)\n",
    "print(str3)"
   ]
  },
  {
   "cell_type": "code",
   "execution_count": 100,
   "metadata": {},
   "outputs": [
    {
     "name": "stdout",
     "output_type": "stream",
     "text": [
      "내 이름은 홍길동이고, 나이는 20이며, 몸무게는 70.8입니다.\n"
     ]
    }
   ],
   "source": [
    "str4=\"내 이름은 {n}이고, 나이는 {a}이며, 몸무게는 {w}입니다.\".format(n=name,a=age,w=weight)\n",
    "print(str4)"
   ]
  },
  {
   "cell_type": "code",
   "execution_count": 101,
   "metadata": {},
   "outputs": [
    {
     "name": "stdout",
     "output_type": "stream",
     "text": [
      "내 이름은 홍길동       이고, 나이는  20이며, 몸무게는 70.80입니다.\n"
     ]
    }
   ],
   "source": [
    "str2=\"내 이름은 {0:10}이고, 나이는 {1:3}이며, 몸무게는 {2:.2f}입니다.\".format(name,age,weight)\n",
    "print(str2)"
   ]
  },
  {
   "cell_type": "code",
   "execution_count": 102,
   "metadata": {},
   "outputs": [
    {
     "name": "stdout",
     "output_type": "stream",
     "text": [
      "내 이름은 #######홍길동이고, 나이는 20!!!이며, 몸무게는 ==70.80===입니다.\n"
     ]
    }
   ],
   "source": [
    "str2=\"내 이름은 {:#>10}이고, 나이는 {:!<5}이며, 몸무게는 {:=^10.2f}입니다.\".format(name,age,weight)\n",
    "print(str2)"
   ]
  },
  {
   "cell_type": "code",
   "execution_count": 105,
   "metadata": {},
   "outputs": [
    {
     "name": "stdout",
     "output_type": "stream",
     "text": [
      "이름은 홍길동        이고, 나이는  20 이고, 몸무게는 70.800 입니다\n"
     ]
    }
   ],
   "source": [
    "str1=f'이름은 {name:<10} 이고, 나이는 {age:>3} 이고, 몸무게는 {weight:0.3f} 입니다' \n",
    "print(str1)"
   ]
  },
  {
   "cell_type": "code",
   "execution_count": 109,
   "metadata": {},
   "outputs": [
    {
     "name": "stdout",
     "output_type": "stream",
     "text": [
      "Python's favorite food is perl\n",
      "4\n"
     ]
    }
   ],
   "source": [
    "print(food1)\n",
    "print(food1.count('o'))"
   ]
  },
  {
   "cell_type": "code",
   "execution_count": 112,
   "metadata": {},
   "outputs": [
    {
     "name": "stdout",
     "output_type": "stream",
     "text": [
      "17\n",
      "1021\n"
     ]
    }
   ],
   "source": [
    "news='''\n",
    "# A는 본인 연소득의 수십 배에 달하는 서울의 한 고가 아파트를 수십억원에 사들였다. 그런데 부친 B는 A가 아파트를 사기 얼마 전에 고액의 배당금을 받았고 상가도 매각한 사실이 확인됐는데 그 돈을 어디에 썼는지 사용처가 불명확했다.\n",
    "\n",
    "A의 재산상태를 감안하면 부친으로부터 돈을 받아 아파트를 산 것으로 분석됐지만 증여세 신고 내역은 없었다. 국세청은 아파트 자금 출처를 자금 원천별로 정밀 검증해 부친으로부터의 편법증여 여부에 대해 조사에 착수했다.\n",
    "\n",
    "# 2주택자인 C는 서울의 고가주택에 대한 양도소득세를 피하기 위해 먼저 지방 소재 주택을 친척에게 가장 매매했다. 이어 C는 서울 주택을 수십억원에 팔면서 1세대1주택 비과세를 적용해 신고했다. 이후 친척에게 이전해 놓았던 주택을 다시 돌려받았다.\n",
    "\n",
    "국세청은 이처럼 편법 증여를 통한 고가 주택 취득, 특수관계자 저가 직거래 등 주택을 사고 팔면서 세금을 회피한 변칙적·지능적 탈루혐의자 156명에 대해 세무조사를 실시하고 있다고 17일 밝혔다.\n",
    "\n",
    "먼저 소득에 비해 자금능력이 부족한데다 고가아파트를 사들인 35명에 대해 세무조사에 착수했다. 부모로부터 편법증여를 받았거나 자신의 소득을 누락한 혐의를 받고 있다.\n",
    "\n",
    "또 가장매매 또는 부실법인 끼워넣기 등 지능적 탈루혐의자 37명도 세무조사에 포함됐다. 폐업상태인 부실법인에게 부동산을 판 다음, 법인이 단기간에 실제 매수인에게 고가로 이 주택을 다시 파는 수법으로 세금부담을 법인에 떠넘긴 경우도 있었다.\n",
    "\n",
    "이와 함께 다운계약으로 양도소득세를 축소 신고한 사람도 37명이 있었고 부모 자녀간 시세보다 낮은 가격에 부동산을 매매해 매도자가 양도소득세 부담을 피한 경우도 29명이 있었다.\n",
    "\n",
    "아울러 소규모 정비사업 추진이 예상되는 지역의 도로 등을 사들인 후 지분을 쪼개 비싸게 파는 방식으로 서민들에게 피해를 준 기획부동산 18명도 세무조사를 받게 된다.\n",
    "\n",
    "국세청은 “개발호재 등으로 거래가 집중되는 지역을 중심으로 정보를 수집해 부동산 거래과정에서 세금신고가 적정히 이뤄졌는지 면밀하게 검증할 예정”이라고 밝혔다.'''\n",
    "\n",
    "print(news.count('고'))\n",
    "print(len(news))"
   ]
  },
  {
   "cell_type": "code",
   "execution_count": 114,
   "metadata": {},
   "outputs": [
    {
     "name": "stdout",
     "output_type": "stream",
     "text": [
      "python is the best choice\n",
      "PYTHON IS THE BEST CHOICE\n",
      "Python Is The Best Choice\n",
      "Python is the best choice\n"
     ]
    }
   ],
   "source": [
    "a='Python is the best Choice'\n",
    "\n",
    "print(a.lower())\n",
    "print(a.upper())\n",
    "print(a.title())\n",
    "print(a.capitalize())"
   ]
  },
  {
   "cell_type": "code",
   "execution_count": 116,
   "metadata": {},
   "outputs": [
    {
     "name": "stdout",
     "output_type": "stream",
     "text": [
      "14\n",
      "14\n"
     ]
    }
   ],
   "source": [
    "print(a.find(\"best\"))\n",
    "print(a.rfind(\"best\")) #위치가 오른쪽에서부터 찾는다."
   ]
  },
  {
   "cell_type": "code",
   "execution_count": 119,
   "metadata": {},
   "outputs": [
    {
     "name": "stdout",
     "output_type": "stream",
     "text": [
      "True\n",
      "False\n"
     ]
    }
   ],
   "source": [
    "print(a.startswith(\"Python\"))\n",
    "print(a.endswith(\"Choice\"))"
   ]
  },
  {
   "cell_type": "code",
   "execution_count": 120,
   "metadata": {},
   "outputs": [
    {
     "name": "stdout",
     "output_type": "stream",
     "text": [
      "['red', 'green', 'blue']\n",
      "['red-green-blue']\n"
     ]
    }
   ],
   "source": [
    "cc=\"red-green-blue\"\n",
    "cc_arr=cc.split(\"-\")\n",
    "print(cc_arr)\n",
    "\n",
    "cc_arr2=cc.split()\n",
    "print(cc_arr2)\n",
    "\n"
   ]
  },
  {
   "cell_type": "code",
   "execution_count": 124,
   "metadata": {},
   "outputs": [
    {
     "name": "stdout",
     "output_type": "stream",
     "text": [
      "a Python is best b\n",
      "a Python is best b\n",
      "a Python is best b\n",
      "a Python is best b\n"
     ]
    }
   ],
   "source": [
    "aa=\"Python is best\"\n",
    "print(\"a\",aa.strip(),\"b\")\n",
    "print(\"a\",aa,\"b\")\n",
    "print('a',aa.lstrip(),\"b\")\n",
    "print('a', aa.rstrip(),\"b\")"
   ]
  },
  {
   "cell_type": "code",
   "execution_count": 129,
   "metadata": {},
   "outputs": [
    {
     "name": "stdout",
     "output_type": "stream",
     "text": [
      "Python is the best choice\n",
      "14\n",
      "-1\n",
      "14\n"
     ]
    }
   ],
   "source": [
    "print(a)\n",
    "print(a.find('best'))\n",
    "print(a.find('aest')) # aest문자가 없는데 find로 찾을때는 오류발생하지않고  -1로 나옴 \n",
    "\n",
    "print(a.index('best'))\n",
    "#print(a.index('aest')) # aest 문자가 없는데 index로 찾아서 > 오류 발생"
   ]
  },
  {
   "cell_type": "code",
   "execution_count": 131,
   "metadata": {},
   "outputs": [
    {
     "name": "stdout",
     "output_type": "stream",
     "text": [
      "Java is the best choice\n"
     ]
    }
   ],
   "source": [
    "c=a.replace ('Python','Java')\n",
    "print(c)\n"
   ]
  },
  {
   "cell_type": "code",
   "execution_count": 143,
   "metadata": {},
   "outputs": [
    {
     "ename": "TypeError",
     "evalue": "'int' object is not callable",
     "output_type": "error",
     "traceback": [
      "\u001b[1;31m---------------------------------------------------------------------------\u001b[0m",
      "\u001b[1;31mTypeError\u001b[0m                                 Traceback (most recent call last)",
      "Cell \u001b[1;32mIn[143], line 75\u001b[0m\n\u001b[0;32m     73\u001b[0m test \u001b[38;5;241m=\u001b[39m yesterday\u001b[38;5;241m.\u001b[39mlower()\n\u001b[0;32m     74\u001b[0m number \u001b[38;5;241m=\u001b[39m test\u001b[38;5;241m.\u001b[39mcount(\u001b[38;5;124m'\u001b[39m\u001b[38;5;124myesterday\u001b[39m\u001b[38;5;124m'\u001b[39m)\n\u001b[1;32m---> 75\u001b[0m \u001b[38;5;28mprint\u001b[39m(\u001b[38;5;124mf\u001b[39m\u001b[38;5;124m'\u001b[39m\u001b[38;5;124myesterday라는 단어는 총\u001b[39m\u001b[38;5;132;01m{\u001b[39;00mnumber\u001b[38;5;132;01m}\u001b[39;00m\u001b[38;5;124m번 나옵니다.\u001b[39m\u001b[38;5;124m'\u001b[39m)\n",
      "\u001b[1;31mTypeError\u001b[0m: 'int' object is not callable"
     ]
    }
   ],
   "source": [
    "yesterday='''\n",
    "Yesterday, all my troubles seemed so far away\n",
    "지난 날엔, 내 모든 문제들이\n",
    "저 멀리 있는 것 같았는데\n",
    "\n",
    "Now it looks as though they're here to stay\n",
    "이제 그것들이 여기에 머무르려 하는 것 같아\n",
    "\n",
    "Oh, I believe in yesterday\n",
    "오, 난 지난 날을 믿었는데\n",
    "\n",
    "\n",
    "Suddenly, I'm not half the man I used to be\n",
    "갑자기, 내가 예전의 반도 안 되는\n",
    "남자 같이 느껴졌어\n",
    "\n",
    "There's a shadow hanging over me\n",
    "내 머리 위로 그림자가 드리워져\n",
    "\n",
    "Oh, yesterday came suddenly\n",
    "지난 날이 갑자기 떠올라\n",
    "\n",
    "\n",
    "Why she had to go?\n",
    "왜 그녀는 떠나야만 했을까\n",
    "\n",
    "I don't know, she wouldn't say\n",
    "모르겠어, 그녀는 말 하지 않았어\n",
    "\n",
    "I said something wrong\n",
    "내가 뭔가 잘못 말한걸까\n",
    "\n",
    "Now I long for yesterday\n",
    "이젠 지난 날이 그리워져\n",
    "\n",
    "\n",
    "Yesterday, love was such an easy game to play\n",
    "지난 날엔, 사랑은 마치 쉬운 게임 같았는데\n",
    "\n",
    "Now I need a place to hide away\n",
    "이젠 멀리 숨을 곳이 필요해\n",
    "\n",
    "Oh, I believe in yesterday\n",
    "나는 지난 날을 믿었는데\n",
    "\n",
    "\n",
    "Why she had to go\n",
    "왜 그녀는 떠나야만 했을까\n",
    "\n",
    "I don't know she wouldn't say\n",
    "모르겠어, 그녀는 말 하지 않았어\n",
    "\n",
    "I said something wrong\n",
    "내가 뭔가 잘못 말한걸까?\n",
    "\n",
    "Now I long for yesterday\n",
    "이젠 지난 날이 그리워져\n",
    "\n",
    "\n",
    "Yesterday, love was such an easy game to play\n",
    "지난 날엔, 사랑은 마치 쉬운 게임 같았는데\n",
    "\n",
    "Now I need a place to hide away\n",
    "이젠 멀리 숨을 곳이 필요해\n",
    "\n",
    "Oh, I believe in yesterday\n",
    "나는 지난 날을 믿었는데\n",
    "\n",
    "\n",
    "Mm mm mm mm mm mm mm\n",
    "음음음음 음 음음'''\n",
    "\n",
    "test = yesterday.lower()\n",
    "number = test.count('yesterday')\n",
    "print(f'yesterday라는 단어는 총{number}번 나옵니다.')\n",
    "\n",
    "\n"
   ]
  }
 ],
 "metadata": {
  "kernelspec": {
   "display_name": "Python 3",
   "language": "python",
   "name": "python3"
  },
  "language_info": {
   "codemirror_mode": {
    "name": "ipython",
    "version": 3
   },
   "file_extension": ".py",
   "mimetype": "text/x-python",
   "name": "python",
   "nbconvert_exporter": "python",
   "pygments_lexer": "ipython3",
   "version": "3.12.7"
  }
 },
 "nbformat": 4,
 "nbformat_minor": 2
}
